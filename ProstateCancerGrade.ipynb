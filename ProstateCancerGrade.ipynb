{
  "nbformat": 4,
  "nbformat_minor": 0,
  "metadata": {
    "colab": {
      "name": "ProstateCancerGrade.ipynb",
      "provenance": [],
      "authorship_tag": "ABX9TyNIecbHG7FK/8vMQjxQh+eC",
      "include_colab_link": true
    },
    "kernelspec": {
      "name": "python3",
      "display_name": "Python 3"
    }
  },
  "cells": [
    {
      "cell_type": "markdown",
      "metadata": {
        "id": "view-in-github",
        "colab_type": "text"
      },
      "source": [
        "<a href=\"https://colab.research.google.com/github/bhavya27k/ProstateCancer/blob/master/ProstateCancerGrade.ipynb\" target=\"_parent\"><img src=\"https://colab.research.google.com/assets/colab-badge.svg\" alt=\"Open In Colab\"/></a>"
      ]
    },
    {
      "cell_type": "code",
      "metadata": {
        "id": "SEQJp-6rSRN9",
        "colab_type": "code",
        "colab": {}
      },
      "source": [
        " !pip install -q kaggle"
      ],
      "execution_count": 1,
      "outputs": []
    },
    {
      "cell_type": "code",
      "metadata": {
        "id": "heGhJ5r6UDpS",
        "colab_type": "code",
        "colab": {}
      },
      "source": [
        " !mkdir -p ~/.kaggle"
      ],
      "execution_count": 2,
      "outputs": []
    },
    {
      "cell_type": "code",
      "metadata": {
        "id": "aOPN1tb6UUzM",
        "colab_type": "code",
        "colab": {}
      },
      "source": [
        "cp kaggle.json ~/.kaggle/"
      ],
      "execution_count": 3,
      "outputs": []
    },
    {
      "cell_type": "code",
      "metadata": {
        "id": "tgVOzTGmUbd4",
        "colab_type": "code",
        "colab": {}
      },
      "source": [
        " !chmod 600 ~/.kaggle/kaggle.json"
      ],
      "execution_count": 4,
      "outputs": []
    },
    {
      "cell_type": "code",
      "metadata": {
        "id": "f2wKnyMtUpZt",
        "colab_type": "code",
        "colab": {
          "base_uri": "https://localhost:8080/",
          "height": 1000
        },
        "outputId": "9c46fc83-e1f9-4e3f-9bdc-db106f26258a"
      },
      "source": [
        " !kaggle competitions download -c prostate-cancer-grade-assessment"
      ],
      "execution_count": 5,
      "outputs": [
        {
          "output_type": "stream",
          "text": [
            "Warning: Looks like you're using an outdated API Version, please consider updating (server 1.5.6 / client 1.5.4)\n",
            "Downloading 001d865e65ef5d2579c190a0e0350d8f.tiff.zip to /content\n",
            " 63% 21.0M/33.2M [00:00<00:00, 90.9MB/s]\n",
            "100% 33.2M/33.2M [00:00<00:00, 110MB/s] \n",
            "Downloading 0005f7aaab2800f6170c399693a96917.tiff.zip to /content\n",
            " 85% 13.0M/15.4M [00:00<00:00, 131MB/s]\n",
            "100% 15.4M/15.4M [00:00<00:00, 142MB/s]\n",
            "Downloading 0076bcb66e46fb485f5ba432b9a1fe8a.tiff.zip to /content\n",
            " 36% 7.00M/19.4M [00:00<00:00, 73.4MB/s]\n",
            "100% 19.4M/19.4M [00:00<00:00, 94.7MB/s]\n",
            "Downloading 005e66f06bce9c2e49142536caf2f6ee.tiff.zip to /content\n",
            " 34% 9.00M/26.6M [00:00<00:00, 69.6MB/s]\n",
            "100% 26.6M/26.6M [00:00<00:00, 130MB/s] \n",
            "Downloading 003a91841da04a5a31f808fb5c21538a.tiff.zip to /content\n",
            "  0% 0.00/5.62M [00:00<?, ?B/s]\n",
            "100% 5.62M/5.62M [00:00<00:00, 51.6MB/s]\n",
            "Downloading 0068d4c7529e34fd4c9da863ce01a161.tiff.zip to /content\n",
            "  0% 0.00/5.73M [00:00<?, ?B/s]\n",
            "100% 5.73M/5.73M [00:00<00:00, 52.8MB/s]\n",
            "Downloading 000920ad0b612851f8e01bcc880d9b3d.tiff.zip to /content\n",
            "  0% 0.00/6.47M [00:00<?, ?B/s]\n",
            "100% 6.47M/6.47M [00:00<00:00, 59.5MB/s]\n",
            "Downloading 002a4db09dad406c85505a00fb6f6144.tiff.zip to /content\n",
            " 44% 9.00M/20.6M [00:00<00:00, 52.8MB/s]\n",
            "100% 20.6M/20.6M [00:00<00:00, 81.8MB/s]\n",
            "Downloading 006f6aa35a78965c92fffd1fbd53a058.tiff.zip to /content\n",
            "  0% 0.00/2.89M [00:00<?, ?B/s]\n",
            "100% 2.89M/2.89M [00:00<00:00, 93.8MB/s]\n",
            "Downloading 003d4dd6bd61221ebc0bfb9350db333f.tiff.zip to /content\n",
            " 50% 8.00M/16.0M [00:00<00:00, 79.1MB/s]\n",
            "100% 16.0M/16.0M [00:00<00:00, 78.1MB/s]\n",
            "Downloading 003046e27c8ead3e3db155780dc5498e.tiff.zip to /content\n",
            " 55% 11.0M/20.0M [00:00<00:00, 49.3MB/s]\n",
            "100% 20.0M/20.0M [00:00<00:00, 78.9MB/s]\n",
            "Downloading 00412139e6b04d1e1cee8421f38f6e90.tiff.zip to /content\n",
            " 57% 5.00M/8.79M [00:00<00:00, 45.5MB/s]\n",
            "100% 8.79M/8.79M [00:00<00:00, 56.1MB/s]\n",
            "Downloading 004f6b3a66189b4e88b6a01ba19d7d31.tiff.zip to /content\n",
            " 42% 9.00M/21.5M [00:00<00:00, 33.5MB/s]\n",
            "100% 21.5M/21.5M [00:00<00:00, 61.7MB/s]\n",
            "Downloading 001c62abd11fa4b57bf7a6c603a11bb9.tiff.zip to /content\n",
            " 37% 9.00M/24.3M [00:00<00:00, 77.3MB/s]\n",
            "100% 24.3M/24.3M [00:00<00:00, 119MB/s] \n",
            "Downloading 0018ae58b01bdadc8e347995b69f99aa.tiff.zip to /content\n",
            " 55% 9.00M/16.4M [00:00<00:00, 31.3MB/s]\n",
            "100% 16.4M/16.4M [00:00<00:00, 47.1MB/s]\n",
            "Downloading 004391d48d58b18156f811087cd38abf.tiff.zip to /content\n",
            " 75% 17.0M/22.5M [00:00<00:00, 60.5MB/s]\n",
            "100% 22.5M/22.5M [00:00<00:00, 64.7MB/s]\n",
            "Downloading 0032bfa835ce0f43a92ae0bbab6871cb.tiff.zip to /content\n",
            " 35% 5.00M/14.3M [00:00<00:00, 25.3MB/s]\n",
            "100% 14.3M/14.3M [00:00<00:00, 56.0MB/s]\n",
            "Downloading 004dd32d9cd167d9cc31c13b704498af.tiff.zip to /content\n",
            "100% 17.0M/17.0M [00:00<00:00, 78.1MB/s]\n",
            "\n",
            "Downloading 007433133235efc27a39f11df6940829.tiff.zip to /content\n",
            " 49% 5.00M/10.2M [00:00<00:00, 46.7MB/s]\n",
            "100% 10.2M/10.2M [00:00<00:00, 65.2MB/s]\n",
            "Downloading 006f4d8d3556dd21f6424202c2d294a9.tiff.zip to /content\n",
            " 38% 5.00M/13.2M [00:00<00:00, 47.5MB/s]\n",
            "100% 13.2M/13.2M [00:00<00:00, 84.4MB/s]\n",
            "Downloading 0068d4c7529e34fd4c9da863ce01a161_mask.tiff to /content\n",
            "  0% 0.00/735k [00:00<?, ?B/s]\n",
            "100% 735k/735k [00:00<00:00, 100MB/s]\n",
            "Downloading 001d865e65ef5d2579c190a0e0350d8f_mask.tiff.zip to /content\n",
            "  0% 0.00/1.34M [00:00<?, ?B/s]\n",
            "100% 1.34M/1.34M [00:00<00:00, 177MB/s]\n",
            "Downloading 005e66f06bce9c2e49142536caf2f6ee_mask.tiff.zip to /content\n",
            "  0% 0.00/861k [00:00<?, ?B/s]\n",
            "100% 861k/861k [00:00<00:00, 117MB/s]\n",
            "Downloading 003a91841da04a5a31f808fb5c21538a_mask.tiff.zip to /content\n",
            "  0% 0.00/155k [00:00<?, ?B/s]\n",
            "100% 155k/155k [00:00<00:00, 142MB/s]\n",
            "Downloading 006f4d8d3556dd21f6424202c2d294a9_mask.tiff.zip to /content\n",
            "  0% 0.00/573k [00:00<?, ?B/s]\n",
            "100% 573k/573k [00:00<00:00, 186MB/s]\n",
            "Downloading 00412139e6b04d1e1cee8421f38f6e90_mask.tiff.zip to /content\n",
            "  0% 0.00/417k [00:00<?, ?B/s]\n",
            "100% 417k/417k [00:00<00:00, 104MB/s]\n",
            "Downloading 006f6aa35a78965c92fffd1fbd53a058_mask.tiff to /content\n",
            "  0% 0.00/404k [00:00<?, ?B/s]\n",
            "100% 404k/404k [00:00<00:00, 126MB/s]\n",
            "Downloading 0005f7aaab2800f6170c399693a96917_mask.tiff.zip to /content\n",
            "  0% 0.00/635k [00:00<?, ?B/s]\n",
            "100% 635k/635k [00:00<00:00, 88.2MB/s]\n",
            "Downloading 007433133235efc27a39f11df6940829_mask.tiff.zip to /content\n",
            "  0% 0.00/644k [00:00<?, ?B/s]\n",
            "100% 644k/644k [00:00<00:00, 89.8MB/s]\n",
            "Downloading 003d4dd6bd61221ebc0bfb9350db333f_mask.tiff.zip to /content\n",
            "  0% 0.00/352k [00:00<?, ?B/s]\n",
            "100% 352k/352k [00:00<00:00, 112MB/s]\n",
            "Downloading 004dd32d9cd167d9cc31c13b704498af_mask.tiff.zip to /content\n",
            "  0% 0.00/1.22M [00:00<?, ?B/s]\n",
            "100% 1.22M/1.22M [00:00<00:00, 169MB/s]\n",
            "Downloading 002a4db09dad406c85505a00fb6f6144_mask.tiff.zip to /content\n",
            "  0% 0.00/763k [00:00<?, ?B/s]\n",
            "100% 763k/763k [00:00<00:00, 242MB/s]\n",
            "Downloading 004f6b3a66189b4e88b6a01ba19d7d31_mask.tiff.zip to /content\n",
            "  0% 0.00/461k [00:00<?, ?B/s]\n",
            "100% 461k/461k [00:00<00:00, 153MB/s]\n",
            "Downloading 001c62abd11fa4b57bf7a6c603a11bb9_mask.tiff.zip to /content\n",
            "  0% 0.00/604k [00:00<?, ?B/s]\n",
            "100% 604k/604k [00:00<00:00, 183MB/s]\n",
            "Downloading 0018ae58b01bdadc8e347995b69f99aa_mask.tiff.zip to /content\n",
            "  0% 0.00/1.36M [00:00<?, ?B/s]\n",
            "100% 1.36M/1.36M [00:00<00:00, 89.3MB/s]\n",
            "Downloading 004391d48d58b18156f811087cd38abf_mask.tiff.zip to /content\n",
            "  0% 0.00/631k [00:00<?, ?B/s]\n",
            "100% 631k/631k [00:00<00:00, 84.3MB/s]\n",
            "Downloading 0076bcb66e46fb485f5ba432b9a1fe8a_mask.tiff.zip to /content\n",
            "  0% 0.00/1.10M [00:00<?, ?B/s]\n",
            "100% 1.10M/1.10M [00:00<00:00, 155MB/s]\n",
            "Downloading 000920ad0b612851f8e01bcc880d9b3d_mask.tiff.zip to /content\n",
            "  0% 0.00/288k [00:00<?, ?B/s]\n",
            "100% 288k/288k [00:00<00:00, 89.0MB/s]\n",
            "Downloading 0032bfa835ce0f43a92ae0bbab6871cb_mask.tiff.zip to /content\n",
            "  0% 0.00/351k [00:00<?, ?B/s]\n",
            "100% 351k/351k [00:00<00:00, 111MB/s]\n",
            "Downloading 003046e27c8ead3e3db155780dc5498e_mask.tiff.zip to /content\n",
            "  0% 0.00/732k [00:00<?, ?B/s]\n",
            "100% 732k/732k [00:00<00:00, 234MB/s]\n",
            "Downloading train.csv to /content\n",
            "  0% 0.00/508k [00:00<?, ?B/s]\n",
            "100% 508k/508k [00:00<00:00, 159MB/s]\n",
            "Downloading sample_submission.csv to /content\n",
            "  0% 0.00/125 [00:00<?, ?B/s]\n",
            "100% 125/125 [00:00<00:00, 122kB/s]\n",
            "Downloading test.csv to /content\n",
            "  0% 0.00/149 [00:00<?, ?B/s]\n",
            "100% 149/149 [00:00<00:00, 138kB/s]\n"
          ],
          "name": "stdout"
        }
      ]
    },
    {
      "cell_type": "code",
      "metadata": {
        "id": "J7aAb8qbU2eD",
        "colab_type": "code",
        "colab": {}
      },
      "source": [
        "import pandas as pd\n",
        "import numpy as np\n",
        "import matplotlib.pyplot as plt\n",
        "import matplotlib\n",
        "import tensorflow as tf\n",
        "from tensorflow.keras import Sequential\n",
        "from tensorflow.keras.layers import Flatten,Dense,Conv2D, MaxPool2D, Dropout"
      ],
      "execution_count": 7,
      "outputs": []
    },
    {
      "cell_type": "code",
      "metadata": {
        "id": "yEscZCN1Vyz_",
        "colab_type": "code",
        "colab": {}
      },
      "source": [
        "train = pd.read_csv(\"train.csv\")"
      ],
      "execution_count": 8,
      "outputs": []
    },
    {
      "cell_type": "code",
      "metadata": {
        "id": "IQ-_DV3XWGEZ",
        "colab_type": "code",
        "colab": {
          "base_uri": "https://localhost:8080/",
          "height": 202
        },
        "outputId": "d73468ef-2cbc-45dc-a17b-0e5ab4f49e59"
      },
      "source": [
        "train.head()"
      ],
      "execution_count": 9,
      "outputs": [
        {
          "output_type": "execute_result",
          "data": {
            "text/html": [
              "<div>\n",
              "<style scoped>\n",
              "    .dataframe tbody tr th:only-of-type {\n",
              "        vertical-align: middle;\n",
              "    }\n",
              "\n",
              "    .dataframe tbody tr th {\n",
              "        vertical-align: top;\n",
              "    }\n",
              "\n",
              "    .dataframe thead th {\n",
              "        text-align: right;\n",
              "    }\n",
              "</style>\n",
              "<table border=\"1\" class=\"dataframe\">\n",
              "  <thead>\n",
              "    <tr style=\"text-align: right;\">\n",
              "      <th></th>\n",
              "      <th>image_id</th>\n",
              "      <th>data_provider</th>\n",
              "      <th>isup_grade</th>\n",
              "      <th>gleason_score</th>\n",
              "    </tr>\n",
              "  </thead>\n",
              "  <tbody>\n",
              "    <tr>\n",
              "      <th>0</th>\n",
              "      <td>0005f7aaab2800f6170c399693a96917</td>\n",
              "      <td>karolinska</td>\n",
              "      <td>0</td>\n",
              "      <td>0+0</td>\n",
              "    </tr>\n",
              "    <tr>\n",
              "      <th>1</th>\n",
              "      <td>000920ad0b612851f8e01bcc880d9b3d</td>\n",
              "      <td>karolinska</td>\n",
              "      <td>0</td>\n",
              "      <td>0+0</td>\n",
              "    </tr>\n",
              "    <tr>\n",
              "      <th>2</th>\n",
              "      <td>0018ae58b01bdadc8e347995b69f99aa</td>\n",
              "      <td>radboud</td>\n",
              "      <td>4</td>\n",
              "      <td>4+4</td>\n",
              "    </tr>\n",
              "    <tr>\n",
              "      <th>3</th>\n",
              "      <td>001c62abd11fa4b57bf7a6c603a11bb9</td>\n",
              "      <td>karolinska</td>\n",
              "      <td>4</td>\n",
              "      <td>4+4</td>\n",
              "    </tr>\n",
              "    <tr>\n",
              "      <th>4</th>\n",
              "      <td>001d865e65ef5d2579c190a0e0350d8f</td>\n",
              "      <td>karolinska</td>\n",
              "      <td>0</td>\n",
              "      <td>0+0</td>\n",
              "    </tr>\n",
              "  </tbody>\n",
              "</table>\n",
              "</div>"
            ],
            "text/plain": [
              "                           image_id data_provider  isup_grade gleason_score\n",
              "0  0005f7aaab2800f6170c399693a96917    karolinska           0           0+0\n",
              "1  000920ad0b612851f8e01bcc880d9b3d    karolinska           0           0+0\n",
              "2  0018ae58b01bdadc8e347995b69f99aa       radboud           4           4+4\n",
              "3  001c62abd11fa4b57bf7a6c603a11bb9    karolinska           4           4+4\n",
              "4  001d865e65ef5d2579c190a0e0350d8f    karolinska           0           0+0"
            ]
          },
          "metadata": {
            "tags": []
          },
          "execution_count": 9
        }
      ]
    },
    {
      "cell_type": "code",
      "metadata": {
        "id": "d9xLH36BW3aI",
        "colab_type": "code",
        "colab": {
          "base_uri": "https://localhost:8080/",
          "height": 35
        },
        "outputId": "59b94e7f-88aa-42ae-f107-b7e94dd96479"
      },
      "source": [
        "print(f\"There are {len(train)} training images\")"
      ],
      "execution_count": 16,
      "outputs": [
        {
          "output_type": "stream",
          "text": [
            "There are 10616 training images\n"
          ],
          "name": "stdout"
        }
      ]
    },
    {
      "cell_type": "code",
      "metadata": {
        "id": "yOUkDqJ_Xdh2",
        "colab_type": "code",
        "colab": {
          "base_uri": "https://localhost:8080/",
          "height": 219
        },
        "outputId": "740c4f64-d644-48d1-e3ab-0f3305d159ef"
      },
      "source": [
        "train[['primary Gleason', 'secondary Gleason']] = train.gleason_score.str.split('+',expand=True)\n",
        "train.head(5)"
      ],
      "execution_count": 18,
      "outputs": [
        {
          "output_type": "execute_result",
          "data": {
            "text/html": [
              "<div>\n",
              "<style scoped>\n",
              "    .dataframe tbody tr th:only-of-type {\n",
              "        vertical-align: middle;\n",
              "    }\n",
              "\n",
              "    .dataframe tbody tr th {\n",
              "        vertical-align: top;\n",
              "    }\n",
              "\n",
              "    .dataframe thead th {\n",
              "        text-align: right;\n",
              "    }\n",
              "</style>\n",
              "<table border=\"1\" class=\"dataframe\">\n",
              "  <thead>\n",
              "    <tr style=\"text-align: right;\">\n",
              "      <th></th>\n",
              "      <th>image_id</th>\n",
              "      <th>data_provider</th>\n",
              "      <th>isup_grade</th>\n",
              "      <th>gleason_score</th>\n",
              "      <th>primary Gleason</th>\n",
              "      <th>secondary Gleason</th>\n",
              "    </tr>\n",
              "  </thead>\n",
              "  <tbody>\n",
              "    <tr>\n",
              "      <th>0</th>\n",
              "      <td>0005f7aaab2800f6170c399693a96917</td>\n",
              "      <td>karolinska</td>\n",
              "      <td>0</td>\n",
              "      <td>0+0</td>\n",
              "      <td>0</td>\n",
              "      <td>0</td>\n",
              "    </tr>\n",
              "    <tr>\n",
              "      <th>1</th>\n",
              "      <td>000920ad0b612851f8e01bcc880d9b3d</td>\n",
              "      <td>karolinska</td>\n",
              "      <td>0</td>\n",
              "      <td>0+0</td>\n",
              "      <td>0</td>\n",
              "      <td>0</td>\n",
              "    </tr>\n",
              "    <tr>\n",
              "      <th>2</th>\n",
              "      <td>0018ae58b01bdadc8e347995b69f99aa</td>\n",
              "      <td>radboud</td>\n",
              "      <td>4</td>\n",
              "      <td>4+4</td>\n",
              "      <td>4</td>\n",
              "      <td>4</td>\n",
              "    </tr>\n",
              "    <tr>\n",
              "      <th>3</th>\n",
              "      <td>001c62abd11fa4b57bf7a6c603a11bb9</td>\n",
              "      <td>karolinska</td>\n",
              "      <td>4</td>\n",
              "      <td>4+4</td>\n",
              "      <td>4</td>\n",
              "      <td>4</td>\n",
              "    </tr>\n",
              "    <tr>\n",
              "      <th>4</th>\n",
              "      <td>001d865e65ef5d2579c190a0e0350d8f</td>\n",
              "      <td>karolinska</td>\n",
              "      <td>0</td>\n",
              "      <td>0+0</td>\n",
              "      <td>0</td>\n",
              "      <td>0</td>\n",
              "    </tr>\n",
              "  </tbody>\n",
              "</table>\n",
              "</div>"
            ],
            "text/plain": [
              "                           image_id  ... secondary Gleason\n",
              "0  0005f7aaab2800f6170c399693a96917  ...                 0\n",
              "1  000920ad0b612851f8e01bcc880d9b3d  ...                 0\n",
              "2  0018ae58b01bdadc8e347995b69f99aa  ...                 4\n",
              "3  001c62abd11fa4b57bf7a6c603a11bb9  ...                 4\n",
              "4  001d865e65ef5d2579c190a0e0350d8f  ...                 0\n",
              "\n",
              "[5 rows x 6 columns]"
            ]
          },
          "metadata": {
            "tags": []
          },
          "execution_count": 18
        }
      ]
    },
    {
      "cell_type": "code",
      "metadata": {
        "id": "4uuyPZGaYgQW",
        "colab_type": "code",
        "colab": {
          "base_uri": "https://localhost:8080/",
          "height": 69
        },
        "outputId": "867ac9a1-2baa-45ff-ed77-aa7358911f7d"
      },
      "source": [
        " !pip install -q tf-nightly\n",
        "\n"
      ],
      "execution_count": 20,
      "outputs": [
        {
          "output_type": "stream",
          "text": [
            "\u001b[K     |████████████████████████████████| 322.7MB 48kB/s \n",
            "\u001b[K     |████████████████████████████████| 460kB 34.6MB/s \n",
            "\u001b[K     |████████████████████████████████| 6.8MB 44.9MB/s \n",
            "\u001b[?25h"
          ],
          "name": "stdout"
        }
      ]
    },
    {
      "cell_type": "code",
      "metadata": {
        "id": "w-yA-X_Dc7nH",
        "colab_type": "code",
        "colab": {}
      },
      "source": [
        "import os\n",
        "import PIL\n",
        "import PIL.Image"
      ],
      "execution_count": 21,
      "outputs": []
    }
  ]
}